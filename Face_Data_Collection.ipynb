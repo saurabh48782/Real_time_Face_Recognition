{
 "cells": [
  {
   "cell_type": "code",
   "execution_count": 2,
   "metadata": {},
   "outputs": [
    {
     "name": "stdout",
     "output_type": "stream",
     "text": [
      "Enter the name of the person : HBDJivu\n",
      "1\n",
      "2\n",
      "3\n",
      "4\n",
      "5\n",
      "6\n",
      "7\n",
      "8\n",
      "9\n",
      "10\n",
      "11\n",
      "12\n",
      "13\n",
      "14\n",
      "15\n",
      "16\n",
      "17\n",
      "18\n",
      "19\n",
      "20\n",
      "21\n",
      "22\n",
      "23\n",
      "(23, 30000)\n",
      "Data successfully saved at ./Face_Data/HBDJivu.npy\n"
     ]
    }
   ],
   "source": [
    "# Write a python script that captures images from your webcam\n",
    "# Extracts all faces from image frame (using haarcascades)\n",
    "# Stores the faces information into a numpy array\n",
    "\n",
    "# 1. Read and show video stream, capture images\n",
    "# 2. Detect faces and show bounding box (using haarcascades)\n",
    "# 3. Flatten the largest face image (grayscale) and save in a numpy array\n",
    "# 4. Repeat the above for multiple people to generate training data\n",
    "\n",
    "\n",
    "\n",
    "import cv2\n",
    "import numpy as np\n",
    "import pandas as pd\n",
    "\n",
    "#Initialising camera\n",
    "cap = cv2.VideoCapture(0)\n",
    "\n",
    "#FaceDetection\n",
    "face_cascade = cv2.CascadeClassifier('haarcascade_frontalface_alt.xml')\n",
    "\n",
    "skip = 0\n",
    "file_name = input(\"Enter the name of the person : \")\n",
    "face_data = []\n",
    "dataset_path = './Face_Data/'\n",
    "while True:\n",
    "    ret,frame = cap.read()\n",
    "    \n",
    "    if ret == False:\n",
    "        continue\n",
    "    gray_frame = cv2.cvtColor(frame,cv2.COLOR_BGR2GRAY)\n",
    "    \n",
    "    faces = face_cascade.detectMultiScale(frame,1.3,5)\n",
    "    \n",
    "    # For multiple faces it sorts the images based in it's w and h value and by calculating the area and displays it in\n",
    "    # descending order i.e., largest face in the begining of the list. \n",
    "    faces = sorted(faces,key=lambda f:f[2]*f[3])\n",
    "    \n",
    "    for face in faces[-1:]:\n",
    "        x,y,w,h = face\n",
    "        cv2.rectangle(frame,(x,y),(x+w,y+h),(0,255,255),2)\n",
    "        \n",
    "        # Extracting only the Region of Interest (here,Face)\n",
    "        offset  = 10 # A value taken for padding around the face\n",
    "        face_sec = frame[y-offset:y+h+offset,x-offset:x+w+offset]\n",
    "        face_sec = cv2.resize(face_sec,(100,100))\n",
    "        \n",
    "        skip +=1\n",
    "        if (skip%10 == 0):\n",
    "            #Store every 10th face\n",
    "            face_data.append(face_sec)\n",
    "            print(len(face_data))\n",
    "        cv2.imshow(\"Face Section\",face_sec)\n",
    "            \n",
    "    cv2.imshow(\"Video Frame\",frame)\n",
    "    \n",
    "       \n",
    "    \n",
    "    KeyPressed = cv2.waitKey(1) & 0xFF\n",
    "    if KeyPressed == ord('q'):\n",
    "        break\n",
    "# Converting face data into a numpy array\n",
    "face_data = np.asarray(face_data)\n",
    "face_data = face_data.reshape((face_data.shape[0],-1))\n",
    "print(face_data.shape)\n",
    "\n",
    "# Saving face_data intp file system\n",
    "np.save(dataset_path+file_name+'.npy',face_data)\n",
    "print(\"Data successfully saved at \"+dataset_path+file_name+'.npy')\n",
    "\n",
    "cap.release()\n",
    "cv2.destroyAllWindows()"
   ]
  },
  {
   "cell_type": "code",
   "execution_count": null,
   "metadata": {},
   "outputs": [],
   "source": []
  },
  {
   "cell_type": "code",
   "execution_count": null,
   "metadata": {},
   "outputs": [],
   "source": []
  },
  {
   "cell_type": "code",
   "execution_count": null,
   "metadata": {},
   "outputs": [],
   "source": []
  },
  {
   "cell_type": "code",
   "execution_count": null,
   "metadata": {},
   "outputs": [],
   "source": []
  },
  {
   "cell_type": "code",
   "execution_count": null,
   "metadata": {},
   "outputs": [],
   "source": []
  },
  {
   "cell_type": "code",
   "execution_count": null,
   "metadata": {},
   "outputs": [],
   "source": []
  },
  {
   "cell_type": "code",
   "execution_count": null,
   "metadata": {},
   "outputs": [],
   "source": []
  },
  {
   "cell_type": "code",
   "execution_count": null,
   "metadata": {},
   "outputs": [],
   "source": []
  },
  {
   "cell_type": "code",
   "execution_count": null,
   "metadata": {},
   "outputs": [],
   "source": []
  }
 ],
 "metadata": {
  "kernelspec": {
   "display_name": "Python 3",
   "language": "python",
   "name": "python3"
  },
  "language_info": {
   "codemirror_mode": {
    "name": "ipython",
    "version": 3
   },
   "file_extension": ".py",
   "mimetype": "text/x-python",
   "name": "python",
   "nbconvert_exporter": "python",
   "pygments_lexer": "ipython3",
   "version": "3.8.3"
  }
 },
 "nbformat": 4,
 "nbformat_minor": 2
}
